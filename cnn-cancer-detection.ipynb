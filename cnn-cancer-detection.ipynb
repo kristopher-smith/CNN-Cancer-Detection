{
 "cells": [
  {
   "cell_type": "markdown",
   "id": "30593ed7",
   "metadata": {
    "papermill": {
     "duration": 0.006556,
     "end_time": "2023-05-21T21:46:13.315890",
     "exception": false,
     "start_time": "2023-05-21T21:46:13.309334",
     "status": "completed"
    },
    "tags": []
   },
   "source": [
    "# CNN Cancer Detection With Keras NN From Scratch\n",
    "***By Kris Smith***"
   ]
  },
  {
   "cell_type": "markdown",
   "id": "8404cf66",
   "metadata": {
    "papermill": {
     "duration": 0.003791,
     "end_time": "2023-05-21T21:46:13.324023",
     "exception": false,
     "start_time": "2023-05-21T21:46:13.320232",
     "status": "completed"
    },
    "tags": []
   },
   "source": [
    "## Import Libraries"
   ]
  },
  {
   "cell_type": "code",
   "execution_count": 1,
   "id": "f5a83228",
   "metadata": {
    "_cell_guid": "b1076dfc-b9ad-4769-8c92-a6c4dae69d19",
    "_uuid": "8f2839f25d086af736a60e9eeb907d3b93b6e0e5",
    "execution": {
     "iopub.execute_input": "2023-05-21T21:46:13.333944Z",
     "iopub.status.busy": "2023-05-21T21:46:13.333521Z",
     "iopub.status.idle": "2023-05-21T21:46:13.481482Z",
     "shell.execute_reply": "2023-05-21T21:46:13.480583Z"
    },
    "papermill": {
     "duration": 0.155908,
     "end_time": "2023-05-21T21:46:13.483942",
     "exception": false,
     "start_time": "2023-05-21T21:46:13.328034",
     "status": "completed"
    },
    "tags": []
   },
   "outputs": [],
   "source": [
    "import numpy as np, pandas as pd\n",
    "import os\n",
    "import cv2\n",
    "import matplotlib.pyplot as plt\n",
    "%matplotlib inline"
   ]
  },
  {
   "cell_type": "markdown",
   "id": "884816d8",
   "metadata": {
    "papermill": {
     "duration": 0.002769,
     "end_time": "2023-05-21T21:46:13.489976",
     "exception": false,
     "start_time": "2023-05-21T21:46:13.487207",
     "status": "completed"
    },
    "tags": []
   },
   "source": [
    "---\n",
    "\n",
    "# EDA"
   ]
  },
  {
   "cell_type": "markdown",
   "id": "26dfe014",
   "metadata": {
    "papermill": {
     "duration": 0.002707,
     "end_time": "2023-05-21T21:46:13.495602",
     "exception": false,
     "start_time": "2023-05-21T21:46:13.492895",
     "status": "completed"
    },
    "tags": []
   },
   "source": [
    "## Load Data"
   ]
  },
  {
   "cell_type": "code",
   "execution_count": 2,
   "id": "489e5514",
   "metadata": {
    "execution": {
     "iopub.execute_input": "2023-05-21T21:46:13.502853Z",
     "iopub.status.busy": "2023-05-21T21:46:13.502560Z",
     "iopub.status.idle": "2023-05-21T21:46:16.700773Z",
     "shell.execute_reply": "2023-05-21T21:46:16.699393Z"
    },
    "papermill": {
     "duration": 3.204248,
     "end_time": "2023-05-21T21:46:16.702761",
     "exception": false,
     "start_time": "2023-05-21T21:46:13.498513",
     "status": "completed"
    },
    "tags": []
   },
   "outputs": [
    {
     "name": "stdout",
     "output_type": "stream",
     "text": [
      "Number of Samples in Training Data = 220025\n",
      "Number of Samples in Test Data = 57458\n"
     ]
    }
   ],
   "source": [
    "print(f'Number of Samples in Training Data = {len(os.listdir(\"../input/histopathologic-cancer-detection/train\"))}')\n",
    "print(f'Number of Samples in Test Data = {len(os.listdir(\"../input/histopathologic-cancer-detection/test\"))}')"
   ]
  },
  {
   "cell_type": "code",
   "execution_count": 3,
   "id": "f76c8226",
   "metadata": {
    "execution": {
     "iopub.execute_input": "2023-05-21T21:46:16.711253Z",
     "iopub.status.busy": "2023-05-21T21:46:16.710545Z",
     "iopub.status.idle": "2023-05-21T21:46:16.714659Z",
     "shell.execute_reply": "2023-05-21T21:46:16.713780Z"
    },
    "papermill": {
     "duration": 0.010324,
     "end_time": "2023-05-21T21:46:16.716646",
     "exception": false,
     "start_time": "2023-05-21T21:46:16.706322",
     "status": "completed"
    },
    "tags": []
   },
   "outputs": [],
   "source": [
    "train_path = \"../input/histopathologic-cancer-detection/train/\""
   ]
  },
  {
   "cell_type": "markdown",
   "id": "fb439c01",
   "metadata": {
    "papermill": {
     "duration": 0.002913,
     "end_time": "2023-05-21T21:46:16.722704",
     "exception": false,
     "start_time": "2023-05-21T21:46:16.719791",
     "status": "completed"
    },
    "tags": []
   },
   "source": [
    "## Lets Inspect Distribution Among The Classes in Training Data"
   ]
  },
  {
   "cell_type": "code",
   "execution_count": 4,
   "id": "111f38af",
   "metadata": {
    "execution": {
     "iopub.execute_input": "2023-05-21T21:46:16.730038Z",
     "iopub.status.busy": "2023-05-21T21:46:16.729783Z",
     "iopub.status.idle": "2023-05-21T21:46:17.322801Z",
     "shell.execute_reply": "2023-05-21T21:46:17.321888Z"
    },
    "papermill": {
     "duration": 0.599055,
     "end_time": "2023-05-21T21:46:17.324842",
     "exception": false,
     "start_time": "2023-05-21T21:46:16.725787",
     "status": "completed"
    },
    "tags": []
   },
   "outputs": [
    {
     "data": {
      "text/plain": [
       "<AxesSubplot: title={'center': 'Class Distribution in Training Data'}>"
      ]
     },
     "execution_count": 4,
     "metadata": {},
     "output_type": "execute_result"
    },
    {
     "data": {
      "image/png": "[encoded data removed]",
      "text/plain": [
       "<Figure size 640x480 with 1 Axes>"
      ]
     },
     "metadata": {},
     "output_type": "display_data"
    }
   ],
   "source": [
    "labels = pd.read_csv('../input/histopathologic-cancer-detection/train_labels.csv')\n",
    "labels['label'].value_counts().plot(kind='barh', title='Class Distribution in Training Data')"
   ]
  },
  {
   "cell_type": "markdown",
   "id": "da88f3c4",
   "metadata": {
    "papermill": {
     "duration": 0.003347,
     "end_time": "2023-05-21T21:46:17.331919",
     "exception": false,
     "start_time": "2023-05-21T21:46:17.328572",
     "status": "completed"
    },
    "tags": []
   },
   "source": [
    "## Inspect Some Samples From Both Positive and Negative Classes"
   ]
  },
  {
   "cell_type": "code",
   "execution_count": null,
   "id": "abb47db8",
   "metadata": {
    "papermill": {
     "duration": 0.003286,
     "end_time": "2023-05-21T21:46:17.338661",
     "exception": false,
     "start_time": "2023-05-21T21:46:17.335375",
     "status": "completed"
    },
    "tags": []
   },
   "outputs": [],
   "source": []
  }
 ],
 "metadata": {
  "kernelspec": {
   "display_name": "Python 3",
   "language": "python",
   "name": "python3"
  },
  "language_info": {
   "codemirror_mode": {
    "name": "ipython",
    "version": 3
   },
   "file_extension": ".py",
   "mimetype": "text/x-python",
   "name": "python",
   "nbconvert_exporter": "python",
   "pygments_lexer": "ipython3",
   "version": "3.10.10"
  },
  "papermill": {
   "default_parameters": {},
   "duration": 14.737349,
   "end_time": "2023-05-21T21:46:17.961862",
   "environment_variables": {},
   "exception": null,
   "input_path": "__notebook__.ipynb",
   "output_path": "__notebook__.ipynb",
   "parameters": {},
   "start_time": "2023-05-21T21:46:03.224513",
   "version": "2.4.0"
  }
 },
 "nbformat": 4,
 "nbformat_minor": 5
}
