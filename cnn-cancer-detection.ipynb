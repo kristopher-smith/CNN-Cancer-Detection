{
 "cells": [
  {
   "cell_type": "markdown",
   "id": "c80207cf",
   "metadata": {
    "papermill": {
     "duration": 0.001951,
     "end_time": "2023-05-21T21:14:38.802611",
     "exception": false,
     "start_time": "2023-05-21T21:14:38.800660",
     "status": "completed"
    },
    "tags": []
   },
   "source": [
    "# CNN Cancer Detection With Keras NN From Scratch\n",
    "***By Kris Smith***"
   ]
  },
  {
   "cell_type": "code",
   "execution_count": 1,
   "id": "956130bc",
   "metadata": {
    "_cell_guid": "b1076dfc-b9ad-4769-8c92-a6c4dae69d19",
    "_uuid": "8f2839f25d086af736a60e9eeb907d3b93b6e0e5",
    "execution": {
     "iopub.execute_input": "2023-05-21T21:14:38.809327Z",
     "iopub.status.busy": "2023-05-21T21:14:38.808924Z",
     "iopub.status.idle": "2023-05-21T21:14:38.820174Z",
     "shell.execute_reply": "2023-05-21T21:14:38.819189Z"
    },
    "papermill": {
     "duration": 0.016369,
     "end_time": "2023-05-21T21:14:38.822361",
     "exception": false,
     "start_time": "2023-05-21T21:14:38.805992",
     "status": "completed"
    },
    "tags": []
   },
   "outputs": [],
   "source": [
    "import numpy as np, pandas as pd\n",
    "import os\n"
   ]
  },
  {
   "cell_type": "code",
   "execution_count": null,
   "id": "6c51c673",
   "metadata": {
    "papermill": {
     "duration": 0.001316,
     "end_time": "2023-05-21T21:14:38.825228",
     "exception": false,
     "start_time": "2023-05-21T21:14:38.823912",
     "status": "completed"
    },
    "tags": []
   },
   "outputs": [],
   "source": []
  }
 ],
 "metadata": {
  "kernelspec": {
   "display_name": "Python 3",
   "language": "python",
   "name": "python3"
  },
  "language_info": {
   "codemirror_mode": {
    "name": "ipython",
    "version": 3
   },
   "file_extension": ".py",
   "mimetype": "text/x-python",
   "name": "python",
   "nbconvert_exporter": "python",
   "pygments_lexer": "ipython3",
   "version": "3.10.10"
  },
  "papermill": {
   "default_parameters": {},
   "duration": 11.32798,
   "end_time": "2023-05-21T21:14:39.345109",
   "environment_variables": {},
   "exception": null,
   "input_path": "__notebook__.ipynb",
   "output_path": "__notebook__.ipynb",
   "parameters": {},
   "start_time": "2023-05-21T21:14:28.017129",
   "version": "2.4.0"
  }
 },
 "nbformat": 4,
 "nbformat_minor": 5
}
